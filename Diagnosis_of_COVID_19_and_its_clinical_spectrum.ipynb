{
  "nbformat": 4,
  "nbformat_minor": 0,
  "metadata": {
    "colab": {
      "name": "Diagnosis of COVID-19 and its clinical spectrum",
      "provenance": [],
      "collapsed_sections": []
    },
    "kernelspec": {
      "name": "python3",
      "display_name": "Python 3"
    }
  },
  "cells": [
    {
      "cell_type": "code",
      "metadata": {
        "id": "QxSYTvys4Wgk",
        "colab_type": "code",
        "colab": {
          "base_uri": "https://localhost:8080/",
          "height": 51
        },
        "outputId": "0bc60455-3ed7-4298-9c29-32beca5f452b"
      },
      "source": [
        "import numpy as np\n",
        "import pandas as pd\n",
        "import matplotlib.pyplot as plt\n",
        "import seaborn as sns\n",
        "%matplotlib inline"
      ],
      "execution_count": null,
      "outputs": [
        {
          "output_type": "stream",
          "text": [
            "/usr/local/lib/python3.6/dist-packages/statsmodels/tools/_testing.py:19: FutureWarning: pandas.util.testing is deprecated. Use the functions in the public API at pandas.testing instead.\n",
            "  import pandas.util.testing as tm\n"
          ],
          "name": "stderr"
        }
      ]
    },
    {
      "cell_type": "code",
      "metadata": {
        "id": "Fic4k0n24izT",
        "colab_type": "code",
        "colab": {}
      },
      "source": [
        "df = pd.read_excel('dataset.xlsx')"
      ],
      "execution_count": null,
      "outputs": []
    },
    {
      "cell_type": "code",
      "metadata": {
        "id": "-Wy7iYo74tV_",
        "colab_type": "code",
        "colab": {
          "base_uri": "https://localhost:8080/",
          "height": 355
        },
        "outputId": "20613cd6-4d5f-4918-d0b8-c03df1674790"
      },
      "source": [
        "df.head()"
      ],
      "execution_count": null,
      "outputs": [
        {
          "output_type": "execute_result",
          "data": {
            "text/html": [
              "<div>\n",
              "<style scoped>\n",
              "    .dataframe tbody tr th:only-of-type {\n",
              "        vertical-align: middle;\n",
              "    }\n",
              "\n",
              "    .dataframe tbody tr th {\n",
              "        vertical-align: top;\n",
              "    }\n",
              "\n",
              "    .dataframe thead th {\n",
              "        text-align: right;\n",
              "    }\n",
              "</style>\n",
              "<table border=\"1\" class=\"dataframe\">\n",
              "  <thead>\n",
              "    <tr style=\"text-align: right;\">\n",
              "      <th></th>\n",
              "      <th>Patient ID</th>\n",
              "      <th>Patient age quantile</th>\n",
              "      <th>SARS-Cov-2 exam result</th>\n",
              "      <th>Patient addmited to regular ward (1=yes, 0=no)</th>\n",
              "      <th>Patient addmited to semi-intensive unit (1=yes, 0=no)</th>\n",
              "      <th>Patient addmited to intensive care unit (1=yes, 0=no)</th>\n",
              "      <th>Hematocrit</th>\n",
              "      <th>Hemoglobin</th>\n",
              "      <th>Platelets</th>\n",
              "      <th>Mean platelet volume</th>\n",
              "      <th>Red blood Cells</th>\n",
              "      <th>Lymphocytes</th>\n",
              "      <th>Mean corpuscular hemoglobin concentration (MCHC)</th>\n",
              "      <th>Leukocytes</th>\n",
              "      <th>Basophils</th>\n",
              "      <th>Mean corpuscular hemoglobin (MCH)</th>\n",
              "      <th>Eosinophils</th>\n",
              "      <th>Mean corpuscular volume (MCV)</th>\n",
              "      <th>Monocytes</th>\n",
              "      <th>Red blood cell distribution width (RDW)</th>\n",
              "      <th>Serum Glucose</th>\n",
              "      <th>Respiratory Syncytial Virus</th>\n",
              "      <th>Influenza A</th>\n",
              "      <th>Influenza B</th>\n",
              "      <th>Parainfluenza 1</th>\n",
              "      <th>CoronavirusNL63</th>\n",
              "      <th>Rhinovirus/Enterovirus</th>\n",
              "      <th>Mycoplasma pneumoniae</th>\n",
              "      <th>Coronavirus HKU1</th>\n",
              "      <th>Parainfluenza 3</th>\n",
              "      <th>Chlamydophila pneumoniae</th>\n",
              "      <th>Adenovirus</th>\n",
              "      <th>Parainfluenza 4</th>\n",
              "      <th>Coronavirus229E</th>\n",
              "      <th>CoronavirusOC43</th>\n",
              "      <th>Inf A H1N1 2009</th>\n",
              "      <th>Bordetella pertussis</th>\n",
              "      <th>Metapneumovirus</th>\n",
              "      <th>Parainfluenza 2</th>\n",
              "      <th>Neutrophils</th>\n",
              "      <th>...</th>\n",
              "      <th>Urine - Esterase</th>\n",
              "      <th>Urine - Aspect</th>\n",
              "      <th>Urine - pH</th>\n",
              "      <th>Urine - Hemoglobin</th>\n",
              "      <th>Urine - Bile pigments</th>\n",
              "      <th>Urine - Ketone Bodies</th>\n",
              "      <th>Urine - Nitrite</th>\n",
              "      <th>Urine - Density</th>\n",
              "      <th>Urine - Urobilinogen</th>\n",
              "      <th>Urine - Protein</th>\n",
              "      <th>Urine - Sugar</th>\n",
              "      <th>Urine - Leukocytes</th>\n",
              "      <th>Urine - Crystals</th>\n",
              "      <th>Urine - Red blood cells</th>\n",
              "      <th>Urine - Hyaline cylinders</th>\n",
              "      <th>Urine - Granular cylinders</th>\n",
              "      <th>Urine - Yeasts</th>\n",
              "      <th>Urine - Color</th>\n",
              "      <th>Partial thromboplastin time (PTT)</th>\n",
              "      <th>Relationship (Patient/Normal)</th>\n",
              "      <th>International normalized ratio (INR)</th>\n",
              "      <th>Lactic Dehydrogenase</th>\n",
              "      <th>Prothrombin time (PT), Activity</th>\n",
              "      <th>Vitamin B12</th>\n",
              "      <th>Creatine phosphokinase (CPK)</th>\n",
              "      <th>Ferritin</th>\n",
              "      <th>Arterial Lactic Acid</th>\n",
              "      <th>Lipase dosage</th>\n",
              "      <th>D-Dimer</th>\n",
              "      <th>Albumin</th>\n",
              "      <th>Hb saturation (arterial blood gases)</th>\n",
              "      <th>pCO2 (arterial blood gas analysis)</th>\n",
              "      <th>Base excess (arterial blood gas analysis)</th>\n",
              "      <th>pH (arterial blood gas analysis)</th>\n",
              "      <th>Total CO2 (arterial blood gas analysis)</th>\n",
              "      <th>HCO3 (arterial blood gas analysis)</th>\n",
              "      <th>pO2 (arterial blood gas analysis)</th>\n",
              "      <th>Arteiral Fio2</th>\n",
              "      <th>Phosphor</th>\n",
              "      <th>ctO2 (arterial blood gas analysis)</th>\n",
              "    </tr>\n",
              "  </thead>\n",
              "  <tbody>\n",
              "    <tr>\n",
              "      <th>0</th>\n",
              "      <td>44477f75e8169d2</td>\n",
              "      <td>13</td>\n",
              "      <td>negative</td>\n",
              "      <td>0</td>\n",
              "      <td>0</td>\n",
              "      <td>0</td>\n",
              "      <td>NaN</td>\n",
              "      <td>NaN</td>\n",
              "      <td>NaN</td>\n",
              "      <td>NaN</td>\n",
              "      <td>NaN</td>\n",
              "      <td>NaN</td>\n",
              "      <td>NaN</td>\n",
              "      <td>NaN</td>\n",
              "      <td>NaN</td>\n",
              "      <td>NaN</td>\n",
              "      <td>NaN</td>\n",
              "      <td>NaN</td>\n",
              "      <td>NaN</td>\n",
              "      <td>NaN</td>\n",
              "      <td>NaN</td>\n",
              "      <td>NaN</td>\n",
              "      <td>NaN</td>\n",
              "      <td>NaN</td>\n",
              "      <td>NaN</td>\n",
              "      <td>NaN</td>\n",
              "      <td>NaN</td>\n",
              "      <td>NaN</td>\n",
              "      <td>NaN</td>\n",
              "      <td>NaN</td>\n",
              "      <td>NaN</td>\n",
              "      <td>NaN</td>\n",
              "      <td>NaN</td>\n",
              "      <td>NaN</td>\n",
              "      <td>NaN</td>\n",
              "      <td>NaN</td>\n",
              "      <td>NaN</td>\n",
              "      <td>NaN</td>\n",
              "      <td>NaN</td>\n",
              "      <td>NaN</td>\n",
              "      <td>...</td>\n",
              "      <td>NaN</td>\n",
              "      <td>NaN</td>\n",
              "      <td>NaN</td>\n",
              "      <td>NaN</td>\n",
              "      <td>NaN</td>\n",
              "      <td>NaN</td>\n",
              "      <td>NaN</td>\n",
              "      <td>NaN</td>\n",
              "      <td>NaN</td>\n",
              "      <td>NaN</td>\n",
              "      <td>NaN</td>\n",
              "      <td>NaN</td>\n",
              "      <td>NaN</td>\n",
              "      <td>NaN</td>\n",
              "      <td>NaN</td>\n",
              "      <td>NaN</td>\n",
              "      <td>NaN</td>\n",
              "      <td>NaN</td>\n",
              "      <td>NaN</td>\n",
              "      <td>NaN</td>\n",
              "      <td>NaN</td>\n",
              "      <td>NaN</td>\n",
              "      <td>NaN</td>\n",
              "      <td>NaN</td>\n",
              "      <td>NaN</td>\n",
              "      <td>NaN</td>\n",
              "      <td>NaN</td>\n",
              "      <td>NaN</td>\n",
              "      <td>NaN</td>\n",
              "      <td>NaN</td>\n",
              "      <td>NaN</td>\n",
              "      <td>NaN</td>\n",
              "      <td>NaN</td>\n",
              "      <td>NaN</td>\n",
              "      <td>NaN</td>\n",
              "      <td>NaN</td>\n",
              "      <td>NaN</td>\n",
              "      <td>NaN</td>\n",
              "      <td>NaN</td>\n",
              "      <td>NaN</td>\n",
              "    </tr>\n",
              "    <tr>\n",
              "      <th>1</th>\n",
              "      <td>126e9dd13932f68</td>\n",
              "      <td>17</td>\n",
              "      <td>negative</td>\n",
              "      <td>0</td>\n",
              "      <td>0</td>\n",
              "      <td>0</td>\n",
              "      <td>0.236515</td>\n",
              "      <td>-0.02234</td>\n",
              "      <td>-0.517413</td>\n",
              "      <td>0.010677</td>\n",
              "      <td>0.102004</td>\n",
              "      <td>0.318366</td>\n",
              "      <td>-0.95079</td>\n",
              "      <td>-0.09461</td>\n",
              "      <td>-0.223767</td>\n",
              "      <td>-0.292269</td>\n",
              "      <td>1.482158</td>\n",
              "      <td>0.166192</td>\n",
              "      <td>0.357547</td>\n",
              "      <td>-0.625073</td>\n",
              "      <td>-0.140648</td>\n",
              "      <td>not_detected</td>\n",
              "      <td>not_detected</td>\n",
              "      <td>not_detected</td>\n",
              "      <td>not_detected</td>\n",
              "      <td>not_detected</td>\n",
              "      <td>detected</td>\n",
              "      <td>NaN</td>\n",
              "      <td>not_detected</td>\n",
              "      <td>not_detected</td>\n",
              "      <td>not_detected</td>\n",
              "      <td>not_detected</td>\n",
              "      <td>not_detected</td>\n",
              "      <td>not_detected</td>\n",
              "      <td>not_detected</td>\n",
              "      <td>not_detected</td>\n",
              "      <td>not_detected</td>\n",
              "      <td>not_detected</td>\n",
              "      <td>not_detected</td>\n",
              "      <td>-0.619086</td>\n",
              "      <td>...</td>\n",
              "      <td>NaN</td>\n",
              "      <td>NaN</td>\n",
              "      <td>NaN</td>\n",
              "      <td>NaN</td>\n",
              "      <td>NaN</td>\n",
              "      <td>NaN</td>\n",
              "      <td>NaN</td>\n",
              "      <td>NaN</td>\n",
              "      <td>NaN</td>\n",
              "      <td>NaN</td>\n",
              "      <td>NaN</td>\n",
              "      <td>NaN</td>\n",
              "      <td>NaN</td>\n",
              "      <td>NaN</td>\n",
              "      <td>NaN</td>\n",
              "      <td>NaN</td>\n",
              "      <td>NaN</td>\n",
              "      <td>NaN</td>\n",
              "      <td>NaN</td>\n",
              "      <td>NaN</td>\n",
              "      <td>NaN</td>\n",
              "      <td>NaN</td>\n",
              "      <td>NaN</td>\n",
              "      <td>NaN</td>\n",
              "      <td>NaN</td>\n",
              "      <td>NaN</td>\n",
              "      <td>NaN</td>\n",
              "      <td>NaN</td>\n",
              "      <td>NaN</td>\n",
              "      <td>NaN</td>\n",
              "      <td>NaN</td>\n",
              "      <td>NaN</td>\n",
              "      <td>NaN</td>\n",
              "      <td>NaN</td>\n",
              "      <td>NaN</td>\n",
              "      <td>NaN</td>\n",
              "      <td>NaN</td>\n",
              "      <td>NaN</td>\n",
              "      <td>NaN</td>\n",
              "      <td>NaN</td>\n",
              "    </tr>\n",
              "    <tr>\n",
              "      <th>2</th>\n",
              "      <td>a46b4402a0e5696</td>\n",
              "      <td>8</td>\n",
              "      <td>negative</td>\n",
              "      <td>0</td>\n",
              "      <td>0</td>\n",
              "      <td>0</td>\n",
              "      <td>NaN</td>\n",
              "      <td>NaN</td>\n",
              "      <td>NaN</td>\n",
              "      <td>NaN</td>\n",
              "      <td>NaN</td>\n",
              "      <td>NaN</td>\n",
              "      <td>NaN</td>\n",
              "      <td>NaN</td>\n",
              "      <td>NaN</td>\n",
              "      <td>NaN</td>\n",
              "      <td>NaN</td>\n",
              "      <td>NaN</td>\n",
              "      <td>NaN</td>\n",
              "      <td>NaN</td>\n",
              "      <td>NaN</td>\n",
              "      <td>NaN</td>\n",
              "      <td>NaN</td>\n",
              "      <td>NaN</td>\n",
              "      <td>NaN</td>\n",
              "      <td>NaN</td>\n",
              "      <td>NaN</td>\n",
              "      <td>NaN</td>\n",
              "      <td>NaN</td>\n",
              "      <td>NaN</td>\n",
              "      <td>NaN</td>\n",
              "      <td>NaN</td>\n",
              "      <td>NaN</td>\n",
              "      <td>NaN</td>\n",
              "      <td>NaN</td>\n",
              "      <td>NaN</td>\n",
              "      <td>NaN</td>\n",
              "      <td>NaN</td>\n",
              "      <td>NaN</td>\n",
              "      <td>NaN</td>\n",
              "      <td>...</td>\n",
              "      <td>NaN</td>\n",
              "      <td>NaN</td>\n",
              "      <td>NaN</td>\n",
              "      <td>NaN</td>\n",
              "      <td>NaN</td>\n",
              "      <td>NaN</td>\n",
              "      <td>NaN</td>\n",
              "      <td>NaN</td>\n",
              "      <td>NaN</td>\n",
              "      <td>NaN</td>\n",
              "      <td>NaN</td>\n",
              "      <td>NaN</td>\n",
              "      <td>NaN</td>\n",
              "      <td>NaN</td>\n",
              "      <td>NaN</td>\n",
              "      <td>NaN</td>\n",
              "      <td>NaN</td>\n",
              "      <td>NaN</td>\n",
              "      <td>NaN</td>\n",
              "      <td>NaN</td>\n",
              "      <td>NaN</td>\n",
              "      <td>NaN</td>\n",
              "      <td>NaN</td>\n",
              "      <td>NaN</td>\n",
              "      <td>NaN</td>\n",
              "      <td>NaN</td>\n",
              "      <td>NaN</td>\n",
              "      <td>NaN</td>\n",
              "      <td>NaN</td>\n",
              "      <td>NaN</td>\n",
              "      <td>NaN</td>\n",
              "      <td>NaN</td>\n",
              "      <td>NaN</td>\n",
              "      <td>NaN</td>\n",
              "      <td>NaN</td>\n",
              "      <td>NaN</td>\n",
              "      <td>NaN</td>\n",
              "      <td>NaN</td>\n",
              "      <td>NaN</td>\n",
              "      <td>NaN</td>\n",
              "    </tr>\n",
              "    <tr>\n",
              "      <th>3</th>\n",
              "      <td>f7d619a94f97c45</td>\n",
              "      <td>5</td>\n",
              "      <td>negative</td>\n",
              "      <td>0</td>\n",
              "      <td>0</td>\n",
              "      <td>0</td>\n",
              "      <td>NaN</td>\n",
              "      <td>NaN</td>\n",
              "      <td>NaN</td>\n",
              "      <td>NaN</td>\n",
              "      <td>NaN</td>\n",
              "      <td>NaN</td>\n",
              "      <td>NaN</td>\n",
              "      <td>NaN</td>\n",
              "      <td>NaN</td>\n",
              "      <td>NaN</td>\n",
              "      <td>NaN</td>\n",
              "      <td>NaN</td>\n",
              "      <td>NaN</td>\n",
              "      <td>NaN</td>\n",
              "      <td>NaN</td>\n",
              "      <td>NaN</td>\n",
              "      <td>NaN</td>\n",
              "      <td>NaN</td>\n",
              "      <td>NaN</td>\n",
              "      <td>NaN</td>\n",
              "      <td>NaN</td>\n",
              "      <td>NaN</td>\n",
              "      <td>NaN</td>\n",
              "      <td>NaN</td>\n",
              "      <td>NaN</td>\n",
              "      <td>NaN</td>\n",
              "      <td>NaN</td>\n",
              "      <td>NaN</td>\n",
              "      <td>NaN</td>\n",
              "      <td>NaN</td>\n",
              "      <td>NaN</td>\n",
              "      <td>NaN</td>\n",
              "      <td>NaN</td>\n",
              "      <td>NaN</td>\n",
              "      <td>...</td>\n",
              "      <td>NaN</td>\n",
              "      <td>NaN</td>\n",
              "      <td>NaN</td>\n",
              "      <td>NaN</td>\n",
              "      <td>NaN</td>\n",
              "      <td>NaN</td>\n",
              "      <td>NaN</td>\n",
              "      <td>NaN</td>\n",
              "      <td>NaN</td>\n",
              "      <td>NaN</td>\n",
              "      <td>NaN</td>\n",
              "      <td>NaN</td>\n",
              "      <td>NaN</td>\n",
              "      <td>NaN</td>\n",
              "      <td>NaN</td>\n",
              "      <td>NaN</td>\n",
              "      <td>NaN</td>\n",
              "      <td>NaN</td>\n",
              "      <td>NaN</td>\n",
              "      <td>NaN</td>\n",
              "      <td>NaN</td>\n",
              "      <td>NaN</td>\n",
              "      <td>NaN</td>\n",
              "      <td>NaN</td>\n",
              "      <td>NaN</td>\n",
              "      <td>NaN</td>\n",
              "      <td>NaN</td>\n",
              "      <td>NaN</td>\n",
              "      <td>NaN</td>\n",
              "      <td>NaN</td>\n",
              "      <td>NaN</td>\n",
              "      <td>NaN</td>\n",
              "      <td>NaN</td>\n",
              "      <td>NaN</td>\n",
              "      <td>NaN</td>\n",
              "      <td>NaN</td>\n",
              "      <td>NaN</td>\n",
              "      <td>NaN</td>\n",
              "      <td>NaN</td>\n",
              "      <td>NaN</td>\n",
              "    </tr>\n",
              "    <tr>\n",
              "      <th>4</th>\n",
              "      <td>d9e41465789c2b5</td>\n",
              "      <td>15</td>\n",
              "      <td>negative</td>\n",
              "      <td>0</td>\n",
              "      <td>0</td>\n",
              "      <td>0</td>\n",
              "      <td>NaN</td>\n",
              "      <td>NaN</td>\n",
              "      <td>NaN</td>\n",
              "      <td>NaN</td>\n",
              "      <td>NaN</td>\n",
              "      <td>NaN</td>\n",
              "      <td>NaN</td>\n",
              "      <td>NaN</td>\n",
              "      <td>NaN</td>\n",
              "      <td>NaN</td>\n",
              "      <td>NaN</td>\n",
              "      <td>NaN</td>\n",
              "      <td>NaN</td>\n",
              "      <td>NaN</td>\n",
              "      <td>NaN</td>\n",
              "      <td>not_detected</td>\n",
              "      <td>not_detected</td>\n",
              "      <td>not_detected</td>\n",
              "      <td>not_detected</td>\n",
              "      <td>not_detected</td>\n",
              "      <td>detected</td>\n",
              "      <td>NaN</td>\n",
              "      <td>not_detected</td>\n",
              "      <td>not_detected</td>\n",
              "      <td>not_detected</td>\n",
              "      <td>not_detected</td>\n",
              "      <td>not_detected</td>\n",
              "      <td>not_detected</td>\n",
              "      <td>not_detected</td>\n",
              "      <td>not_detected</td>\n",
              "      <td>not_detected</td>\n",
              "      <td>not_detected</td>\n",
              "      <td>not_detected</td>\n",
              "      <td>NaN</td>\n",
              "      <td>...</td>\n",
              "      <td>NaN</td>\n",
              "      <td>NaN</td>\n",
              "      <td>NaN</td>\n",
              "      <td>NaN</td>\n",
              "      <td>NaN</td>\n",
              "      <td>NaN</td>\n",
              "      <td>NaN</td>\n",
              "      <td>NaN</td>\n",
              "      <td>NaN</td>\n",
              "      <td>NaN</td>\n",
              "      <td>NaN</td>\n",
              "      <td>NaN</td>\n",
              "      <td>NaN</td>\n",
              "      <td>NaN</td>\n",
              "      <td>NaN</td>\n",
              "      <td>NaN</td>\n",
              "      <td>NaN</td>\n",
              "      <td>NaN</td>\n",
              "      <td>NaN</td>\n",
              "      <td>NaN</td>\n",
              "      <td>NaN</td>\n",
              "      <td>NaN</td>\n",
              "      <td>NaN</td>\n",
              "      <td>NaN</td>\n",
              "      <td>NaN</td>\n",
              "      <td>NaN</td>\n",
              "      <td>NaN</td>\n",
              "      <td>NaN</td>\n",
              "      <td>NaN</td>\n",
              "      <td>NaN</td>\n",
              "      <td>NaN</td>\n",
              "      <td>NaN</td>\n",
              "      <td>NaN</td>\n",
              "      <td>NaN</td>\n",
              "      <td>NaN</td>\n",
              "      <td>NaN</td>\n",
              "      <td>NaN</td>\n",
              "      <td>NaN</td>\n",
              "      <td>NaN</td>\n",
              "      <td>NaN</td>\n",
              "    </tr>\n",
              "  </tbody>\n",
              "</table>\n",
              "<p>5 rows × 111 columns</p>\n",
              "</div>"
            ],
            "text/plain": [
              "        Patient ID  ...  ctO2 (arterial blood gas analysis)\n",
              "0  44477f75e8169d2  ...                                 NaN\n",
              "1  126e9dd13932f68  ...                                 NaN\n",
              "2  a46b4402a0e5696  ...                                 NaN\n",
              "3  f7d619a94f97c45  ...                                 NaN\n",
              "4  d9e41465789c2b5  ...                                 NaN\n",
              "\n",
              "[5 rows x 111 columns]"
            ]
          },
          "metadata": {
            "tags": []
          },
          "execution_count": 3
        }
      ]
    },
    {
      "cell_type": "code",
      "metadata": {
        "id": "Y_4IG6074vhd",
        "colab_type": "code",
        "colab": {
          "base_uri": "https://localhost:8080/",
          "height": 1000
        },
        "outputId": "9f4bc913-c41b-4728-9e97-9f27cc42a079"
      },
      "source": [
        "df.info(verbose=True, null_counts=True)"
      ],
      "execution_count": null,
      "outputs": [
        {
          "output_type": "stream",
          "text": [
            "<class 'pandas.core.frame.DataFrame'>\n",
            "RangeIndex: 5644 entries, 0 to 5643\n",
            "Data columns (total 111 columns):\n",
            " #   Column                                                 Non-Null Count  Dtype  \n",
            "---  ------                                                 --------------  -----  \n",
            " 0   Patient ID                                             5644 non-null   object \n",
            " 1   Patient age quantile                                   5644 non-null   int64  \n",
            " 2   SARS-Cov-2 exam result                                 5644 non-null   object \n",
            " 3   Patient addmited to regular ward (1=yes, 0=no)         5644 non-null   int64  \n",
            " 4   Patient addmited to semi-intensive unit (1=yes, 0=no)  5644 non-null   int64  \n",
            " 5   Patient addmited to intensive care unit (1=yes, 0=no)  5644 non-null   int64  \n",
            " 6   Hematocrit                                             603 non-null    float64\n",
            " 7   Hemoglobin                                             603 non-null    float64\n",
            " 8   Platelets                                              602 non-null    float64\n",
            " 9   Mean platelet volume                                   599 non-null    float64\n",
            " 10  Red blood Cells                                        602 non-null    float64\n",
            " 11  Lymphocytes                                            602 non-null    float64\n",
            " 12  Mean corpuscular hemoglobin concentration (MCHC)       602 non-null    float64\n",
            " 13  Leukocytes                                             602 non-null    float64\n",
            " 14  Basophils                                              602 non-null    float64\n",
            " 15  Mean corpuscular hemoglobin (MCH)                      602 non-null    float64\n",
            " 16  Eosinophils                                            602 non-null    float64\n",
            " 17  Mean corpuscular volume (MCV)                          602 non-null    float64\n",
            " 18  Monocytes                                              601 non-null    float64\n",
            " 19  Red blood cell distribution width (RDW)                602 non-null    float64\n",
            " 20  Serum Glucose                                          208 non-null    float64\n",
            " 21  Respiratory Syncytial Virus                            1354 non-null   object \n",
            " 22  Influenza A                                            1354 non-null   object \n",
            " 23  Influenza B                                            1354 non-null   object \n",
            " 24  Parainfluenza 1                                        1352 non-null   object \n",
            " 25  CoronavirusNL63                                        1352 non-null   object \n",
            " 26  Rhinovirus/Enterovirus                                 1352 non-null   object \n",
            " 27  Mycoplasma pneumoniae                                  0 non-null      float64\n",
            " 28  Coronavirus HKU1                                       1352 non-null   object \n",
            " 29  Parainfluenza 3                                        1352 non-null   object \n",
            " 30  Chlamydophila pneumoniae                               1352 non-null   object \n",
            " 31  Adenovirus                                             1352 non-null   object \n",
            " 32  Parainfluenza 4                                        1352 non-null   object \n",
            " 33  Coronavirus229E                                        1352 non-null   object \n",
            " 34  CoronavirusOC43                                        1352 non-null   object \n",
            " 35  Inf A H1N1 2009                                        1352 non-null   object \n",
            " 36  Bordetella pertussis                                   1352 non-null   object \n",
            " 37  Metapneumovirus                                        1352 non-null   object \n",
            " 38  Parainfluenza 2                                        1352 non-null   object \n",
            " 39  Neutrophils                                            513 non-null    float64\n",
            " 40  Urea                                                   397 non-null    float64\n",
            " 41  Proteina C reativa mg/dL                               506 non-null    float64\n",
            " 42  Creatinine                                             424 non-null    float64\n",
            " 43  Potassium                                              371 non-null    float64\n",
            " 44  Sodium                                                 370 non-null    float64\n",
            " 45  Influenza B, rapid test                                820 non-null    object \n",
            " 46  Influenza A, rapid test                                820 non-null    object \n",
            " 47  Alanine transaminase                                   225 non-null    float64\n",
            " 48  Aspartate transaminase                                 226 non-null    float64\n",
            " 49  Gamma-glutamyltransferase                              153 non-null    float64\n",
            " 50  Total Bilirubin                                        182 non-null    float64\n",
            " 51  Direct Bilirubin                                       182 non-null    float64\n",
            " 52  Indirect Bilirubin                                     182 non-null    float64\n",
            " 53  Alkaline phosphatase                                   144 non-null    float64\n",
            " 54  Ionized calcium                                        50 non-null     float64\n",
            " 55  Strepto A                                              332 non-null    object \n",
            " 56  Magnesium                                              40 non-null     float64\n",
            " 57  pCO2 (venous blood gas analysis)                       136 non-null    float64\n",
            " 58  Hb saturation (venous blood gas analysis)              136 non-null    float64\n",
            " 59  Base excess (venous blood gas analysis)                136 non-null    float64\n",
            " 60  pO2 (venous blood gas analysis)                        136 non-null    float64\n",
            " 61  Fio2 (venous blood gas analysis)                       1 non-null      float64\n",
            " 62  Total CO2 (venous blood gas analysis)                  136 non-null    float64\n",
            " 63  pH (venous blood gas analysis)                         136 non-null    float64\n",
            " 64  HCO3 (venous blood gas analysis)                       136 non-null    float64\n",
            " 65  Rods #                                                 97 non-null     float64\n",
            " 66  Segmented                                              97 non-null     float64\n",
            " 67  Promyelocytes                                          97 non-null     float64\n",
            " 68  Metamyelocytes                                         97 non-null     float64\n",
            " 69  Myelocytes                                             97 non-null     float64\n",
            " 70  Myeloblasts                                            97 non-null     float64\n",
            " 71  Urine - Esterase                                       60 non-null     object \n",
            " 72  Urine - Aspect                                         70 non-null     object \n",
            " 73  Urine - pH                                             70 non-null     object \n",
            " 74  Urine - Hemoglobin                                     70 non-null     object \n",
            " 75  Urine - Bile pigments                                  70 non-null     object \n",
            " 76  Urine - Ketone Bodies                                  57 non-null     object \n",
            " 77  Urine - Nitrite                                        1 non-null      object \n",
            " 78  Urine - Density                                        70 non-null     float64\n",
            " 79  Urine - Urobilinogen                                   69 non-null     object \n",
            " 80  Urine - Protein                                        60 non-null     object \n",
            " 81  Urine - Sugar                                          0 non-null      float64\n",
            " 82  Urine - Leukocytes                                     70 non-null     object \n",
            " 83  Urine - Crystals                                       70 non-null     object \n",
            " 84  Urine - Red blood cells                                70 non-null     float64\n",
            " 85  Urine - Hyaline cylinders                              67 non-null     object \n",
            " 86  Urine - Granular cylinders                             69 non-null     object \n",
            " 87  Urine - Yeasts                                         70 non-null     object \n",
            " 88  Urine - Color                                          70 non-null     object \n",
            " 89  Partial thromboplastin time (PTT)                      0 non-null      float64\n",
            " 90  Relationship (Patient/Normal)                          91 non-null     float64\n",
            " 91  International normalized ratio (INR)                   133 non-null    float64\n",
            " 92  Lactic Dehydrogenase                                   101 non-null    float64\n",
            " 93  Prothrombin time (PT), Activity                        0 non-null      float64\n",
            " 94  Vitamin B12                                            3 non-null      float64\n",
            " 95  Creatine phosphokinase (CPK)                           104 non-null    float64\n",
            " 96  Ferritin                                               23 non-null     float64\n",
            " 97  Arterial Lactic Acid                                   27 non-null     float64\n",
            " 98  Lipase dosage                                          8 non-null      float64\n",
            " 99  D-Dimer                                                0 non-null      float64\n",
            " 100 Albumin                                                13 non-null     float64\n",
            " 101 Hb saturation (arterial blood gases)                   27 non-null     float64\n",
            " 102 pCO2 (arterial blood gas analysis)                     27 non-null     float64\n",
            " 103 Base excess (arterial blood gas analysis)              27 non-null     float64\n",
            " 104 pH (arterial blood gas analysis)                       27 non-null     float64\n",
            " 105 Total CO2 (arterial blood gas analysis)                27 non-null     float64\n",
            " 106 HCO3 (arterial blood gas analysis)                     27 non-null     float64\n",
            " 107 pO2 (arterial blood gas analysis)                      27 non-null     float64\n",
            " 108 Arteiral Fio2                                          20 non-null     float64\n",
            " 109 Phosphor                                               20 non-null     float64\n",
            " 110 ctO2 (arterial blood gas analysis)                     27 non-null     float64\n",
            "dtypes: float64(70), int64(4), object(37)\n",
            "memory usage: 4.8+ MB\n"
          ],
          "name": "stdout"
        }
      ]
    },
    {
      "cell_type": "code",
      "metadata": {
        "id": "9F-Rfy_U4ygu",
        "colab_type": "code",
        "colab": {
          "base_uri": "https://localhost:8080/",
          "height": 34
        },
        "outputId": "ea6bdfc6-01b0-4a8a-d0ed-da9ead4a39ac"
      },
      "source": [
        "df.shape"
      ],
      "execution_count": null,
      "outputs": [
        {
          "output_type": "execute_result",
          "data": {
            "text/plain": [
              "(5644, 111)"
            ]
          },
          "metadata": {
            "tags": []
          },
          "execution_count": 5
        }
      ]
    },
    {
      "cell_type": "code",
      "metadata": {
        "id": "w6Clbp7R464b",
        "colab_type": "code",
        "colab": {}
      },
      "source": [
        "criteria = df.count() >= 1000\n",
        "df_1000 = df[criteria.index[criteria]]"
      ],
      "execution_count": null,
      "outputs": []
    },
    {
      "cell_type": "code",
      "metadata": {
        "id": "hTJxmRol4-WJ",
        "colab_type": "code",
        "colab": {
          "base_uri": "https://localhost:8080/",
          "height": 296
        },
        "outputId": "cee87a82-dbc0-4795-aa3a-0e51537e1d3d"
      },
      "source": [
        "sns.countplot(x='SARS-Cov-2 exam result', data=df)"
      ],
      "execution_count": null,
      "outputs": [
        {
          "output_type": "execute_result",
          "data": {
            "text/plain": [
              "<matplotlib.axes._subplots.AxesSubplot at 0x7fdbc799c080>"
            ]
          },
          "metadata": {
            "tags": []
          },
          "execution_count": 7
        },
        {
          "output_type": "display_data",
          "data": {
            "image/png": "[encoded data removed]",
            "text/plain": [
              "<Figure size 432x288 with 1 Axes>"
            ]
          },
          "metadata": {
            "tags": [],
            "needs_background": "light"
          }
        }
      ]
    },
    {
      "cell_type": "code",
      "metadata": {
        "id": "Lg6u28bb5E1q",
        "colab_type": "code",
        "colab": {
          "base_uri": "https://localhost:8080/",
          "height": 527
        },
        "outputId": "25ef7ab0-871d-42c5-a7a1-a20a98050610"
      },
      "source": [
        "df_1000.info()"
      ],
      "execution_count": null,
      "outputs": [
        {
          "output_type": "stream",
          "text": [
            "<class 'pandas.core.frame.DataFrame'>\n",
            "RangeIndex: 5644 entries, 0 to 5643\n",
            "Data columns (total 23 columns):\n",
            " #   Column                                                 Non-Null Count  Dtype \n",
            "---  ------                                                 --------------  ----- \n",
            " 0   Patient ID                                             5644 non-null   object\n",
            " 1   Patient age quantile                                   5644 non-null   int64 \n",
            " 2   SARS-Cov-2 exam result                                 5644 non-null   object\n",
            " 3   Patient addmited to regular ward (1=yes, 0=no)         5644 non-null   int64 \n",
            " 4   Patient addmited to semi-intensive unit (1=yes, 0=no)  5644 non-null   int64 \n",
            " 5   Patient addmited to intensive care unit (1=yes, 0=no)  5644 non-null   int64 \n",
            " 6   Respiratory Syncytial Virus                            1354 non-null   object\n",
            " 7   Influenza A                                            1354 non-null   object\n",
            " 8   Influenza B                                            1354 non-null   object\n",
            " 9   Parainfluenza 1                                        1352 non-null   object\n",
            " 10  CoronavirusNL63                                        1352 non-null   object\n",
            " 11  Rhinovirus/Enterovirus                                 1352 non-null   object\n",
            " 12  Coronavirus HKU1                                       1352 non-null   object\n",
            " 13  Parainfluenza 3                                        1352 non-null   object\n",
            " 14  Chlamydophila pneumoniae                               1352 non-null   object\n",
            " 15  Adenovirus                                             1352 non-null   object\n",
            " 16  Parainfluenza 4                                        1352 non-null   object\n",
            " 17  Coronavirus229E                                        1352 non-null   object\n",
            " 18  CoronavirusOC43                                        1352 non-null   object\n",
            " 19  Inf A H1N1 2009                                        1352 non-null   object\n",
            " 20  Bordetella pertussis                                   1352 non-null   object\n",
            " 21  Metapneumovirus                                        1352 non-null   object\n",
            " 22  Parainfluenza 2                                        1352 non-null   object\n",
            "dtypes: int64(4), object(19)\n",
            "memory usage: 1014.3+ KB\n"
          ],
          "name": "stdout"
        }
      ]
    },
    {
      "cell_type": "code",
      "metadata": {
        "id": "iZgRA3lL5HOU",
        "colab_type": "code",
        "colab": {
          "base_uri": "https://localhost:8080/",
          "height": 102
        },
        "outputId": "e615eac7-4406-411e-84f7-6e0df8aa182f"
      },
      "source": [
        "df_1000.dropna(inplace=True)"
      ],
      "execution_count": null,
      "outputs": [
        {
          "output_type": "stream",
          "text": [
            "/usr/local/lib/python3.6/dist-packages/ipykernel_launcher.py:1: SettingWithCopyWarning: \n",
            "A value is trying to be set on a copy of a slice from a DataFrame\n",
            "\n",
            "See the caveats in the documentation: https://pandas.pydata.org/pandas-docs/stable/user_guide/indexing.html#returning-a-view-versus-a-copy\n",
            "  \"\"\"Entry point for launching an IPython kernel.\n"
          ],
          "name": "stderr"
        }
      ]
    },
    {
      "cell_type": "code",
      "metadata": {
        "id": "Ayd35ywR5NLE",
        "colab_type": "code",
        "colab": {
          "base_uri": "https://localhost:8080/",
          "height": 102
        },
        "outputId": "02d2939c-e19d-4052-dcda-c2ebd48e4c3f"
      },
      "source": [
        "list = ['Patient ID', 'Patient addmited to regular ward (1=yes, 0=no)', 'Patient addmited to semi-intensive unit (1=yes, 0=no)', 'Patient addmited to intensive care unit (1=yes, 0=no)']\n",
        "df_1000.drop(list, axis=1, inplace=True)"
      ],
      "execution_count": null,
      "outputs": [
        {
          "output_type": "stream",
          "text": [
            "/usr/local/lib/python3.6/dist-packages/pandas/core/frame.py:3997: SettingWithCopyWarning: \n",
            "A value is trying to be set on a copy of a slice from a DataFrame\n",
            "\n",
            "See the caveats in the documentation: https://pandas.pydata.org/pandas-docs/stable/user_guide/indexing.html#returning-a-view-versus-a-copy\n",
            "  errors=errors,\n"
          ],
          "name": "stderr"
        }
      ]
    },
    {
      "cell_type": "code",
      "metadata": {
        "id": "ZSXzeuMr5P1Z",
        "colab_type": "code",
        "colab": {
          "base_uri": "https://localhost:8080/",
          "height": 275
        },
        "outputId": "073796f1-4bc2-4643-bd15-b4782a7b911b"
      },
      "source": [
        "df_1000.head()"
      ],
      "execution_count": null,
      "outputs": [
        {
          "output_type": "execute_result",
          "data": {
            "text/html": [
              "<div>\n",
              "<style scoped>\n",
              "    .dataframe tbody tr th:only-of-type {\n",
              "        vertical-align: middle;\n",
              "    }\n",
              "\n",
              "    .dataframe tbody tr th {\n",
              "        vertical-align: top;\n",
              "    }\n",
              "\n",
              "    .dataframe thead th {\n",
              "        text-align: right;\n",
              "    }\n",
              "</style>\n",
              "<table border=\"1\" class=\"dataframe\">\n",
              "  <thead>\n",
              "    <tr style=\"text-align: right;\">\n",
              "      <th></th>\n",
              "      <th>Patient age quantile</th>\n",
              "      <th>SARS-Cov-2 exam result</th>\n",
              "      <th>Respiratory Syncytial Virus</th>\n",
              "      <th>Influenza A</th>\n",
              "      <th>Influenza B</th>\n",
              "      <th>Parainfluenza 1</th>\n",
              "      <th>CoronavirusNL63</th>\n",
              "      <th>Rhinovirus/Enterovirus</th>\n",
              "      <th>Coronavirus HKU1</th>\n",
              "      <th>Parainfluenza 3</th>\n",
              "      <th>Chlamydophila pneumoniae</th>\n",
              "      <th>Adenovirus</th>\n",
              "      <th>Parainfluenza 4</th>\n",
              "      <th>Coronavirus229E</th>\n",
              "      <th>CoronavirusOC43</th>\n",
              "      <th>Inf A H1N1 2009</th>\n",
              "      <th>Bordetella pertussis</th>\n",
              "      <th>Metapneumovirus</th>\n",
              "      <th>Parainfluenza 2</th>\n",
              "    </tr>\n",
              "  </thead>\n",
              "  <tbody>\n",
              "    <tr>\n",
              "      <th>1</th>\n",
              "      <td>17</td>\n",
              "      <td>negative</td>\n",
              "      <td>not_detected</td>\n",
              "      <td>not_detected</td>\n",
              "      <td>not_detected</td>\n",
              "      <td>not_detected</td>\n",
              "      <td>not_detected</td>\n",
              "      <td>detected</td>\n",
              "      <td>not_detected</td>\n",
              "      <td>not_detected</td>\n",
              "      <td>not_detected</td>\n",
              "      <td>not_detected</td>\n",
              "      <td>not_detected</td>\n",
              "      <td>not_detected</td>\n",
              "      <td>not_detected</td>\n",
              "      <td>not_detected</td>\n",
              "      <td>not_detected</td>\n",
              "      <td>not_detected</td>\n",
              "      <td>not_detected</td>\n",
              "    </tr>\n",
              "    <tr>\n",
              "      <th>4</th>\n",
              "      <td>15</td>\n",
              "      <td>negative</td>\n",
              "      <td>not_detected</td>\n",
              "      <td>not_detected</td>\n",
              "      <td>not_detected</td>\n",
              "      <td>not_detected</td>\n",
              "      <td>not_detected</td>\n",
              "      <td>detected</td>\n",
              "      <td>not_detected</td>\n",
              "      <td>not_detected</td>\n",
              "      <td>not_detected</td>\n",
              "      <td>not_detected</td>\n",
              "      <td>not_detected</td>\n",
              "      <td>not_detected</td>\n",
              "      <td>not_detected</td>\n",
              "      <td>not_detected</td>\n",
              "      <td>not_detected</td>\n",
              "      <td>not_detected</td>\n",
              "      <td>not_detected</td>\n",
              "    </tr>\n",
              "    <tr>\n",
              "      <th>8</th>\n",
              "      <td>1</td>\n",
              "      <td>negative</td>\n",
              "      <td>not_detected</td>\n",
              "      <td>not_detected</td>\n",
              "      <td>not_detected</td>\n",
              "      <td>not_detected</td>\n",
              "      <td>not_detected</td>\n",
              "      <td>not_detected</td>\n",
              "      <td>not_detected</td>\n",
              "      <td>not_detected</td>\n",
              "      <td>not_detected</td>\n",
              "      <td>not_detected</td>\n",
              "      <td>not_detected</td>\n",
              "      <td>not_detected</td>\n",
              "      <td>not_detected</td>\n",
              "      <td>not_detected</td>\n",
              "      <td>not_detected</td>\n",
              "      <td>not_detected</td>\n",
              "      <td>not_detected</td>\n",
              "    </tr>\n",
              "    <tr>\n",
              "      <th>9</th>\n",
              "      <td>17</td>\n",
              "      <td>negative</td>\n",
              "      <td>not_detected</td>\n",
              "      <td>not_detected</td>\n",
              "      <td>not_detected</td>\n",
              "      <td>not_detected</td>\n",
              "      <td>not_detected</td>\n",
              "      <td>not_detected</td>\n",
              "      <td>not_detected</td>\n",
              "      <td>not_detected</td>\n",
              "      <td>not_detected</td>\n",
              "      <td>not_detected</td>\n",
              "      <td>not_detected</td>\n",
              "      <td>not_detected</td>\n",
              "      <td>not_detected</td>\n",
              "      <td>not_detected</td>\n",
              "      <td>not_detected</td>\n",
              "      <td>not_detected</td>\n",
              "      <td>not_detected</td>\n",
              "    </tr>\n",
              "    <tr>\n",
              "      <th>13</th>\n",
              "      <td>13</td>\n",
              "      <td>negative</td>\n",
              "      <td>not_detected</td>\n",
              "      <td>not_detected</td>\n",
              "      <td>not_detected</td>\n",
              "      <td>not_detected</td>\n",
              "      <td>not_detected</td>\n",
              "      <td>not_detected</td>\n",
              "      <td>not_detected</td>\n",
              "      <td>not_detected</td>\n",
              "      <td>not_detected</td>\n",
              "      <td>not_detected</td>\n",
              "      <td>not_detected</td>\n",
              "      <td>not_detected</td>\n",
              "      <td>not_detected</td>\n",
              "      <td>not_detected</td>\n",
              "      <td>not_detected</td>\n",
              "      <td>not_detected</td>\n",
              "      <td>not_detected</td>\n",
              "    </tr>\n",
              "  </tbody>\n",
              "</table>\n",
              "</div>"
            ],
            "text/plain": [
              "    Patient age quantile SARS-Cov-2 exam result  ... Metapneumovirus Parainfluenza 2\n",
              "1                     17               negative  ...    not_detected    not_detected\n",
              "4                     15               negative  ...    not_detected    not_detected\n",
              "8                      1               negative  ...    not_detected    not_detected\n",
              "9                     17               negative  ...    not_detected    not_detected\n",
              "13                    13               negative  ...    not_detected    not_detected\n",
              "\n",
              "[5 rows x 19 columns]"
            ]
          },
          "metadata": {
            "tags": []
          },
          "execution_count": 11
        }
      ]
    },
    {
      "cell_type": "code",
      "metadata": {
        "id": "hQBaGJXI5SZl",
        "colab_type": "code",
        "colab": {
          "base_uri": "https://localhost:8080/",
          "height": 459
        },
        "outputId": "3d08d600-9b4b-47d3-eab8-896c3e1ce357"
      },
      "source": [
        "df_1000.info()"
      ],
      "execution_count": null,
      "outputs": [
        {
          "output_type": "stream",
          "text": [
            "<class 'pandas.core.frame.DataFrame'>\n",
            "Int64Index: 1352 entries, 1 to 5618\n",
            "Data columns (total 19 columns):\n",
            " #   Column                       Non-Null Count  Dtype \n",
            "---  ------                       --------------  ----- \n",
            " 0   Patient age quantile         1352 non-null   int64 \n",
            " 1   SARS-Cov-2 exam result       1352 non-null   object\n",
            " 2   Respiratory Syncytial Virus  1352 non-null   object\n",
            " 3   Influenza A                  1352 non-null   object\n",
            " 4   Influenza B                  1352 non-null   object\n",
            " 5   Parainfluenza 1              1352 non-null   object\n",
            " 6   CoronavirusNL63              1352 non-null   object\n",
            " 7   Rhinovirus/Enterovirus       1352 non-null   object\n",
            " 8   Coronavirus HKU1             1352 non-null   object\n",
            " 9   Parainfluenza 3              1352 non-null   object\n",
            " 10  Chlamydophila pneumoniae     1352 non-null   object\n",
            " 11  Adenovirus                   1352 non-null   object\n",
            " 12  Parainfluenza 4              1352 non-null   object\n",
            " 13  Coronavirus229E              1352 non-null   object\n",
            " 14  CoronavirusOC43              1352 non-null   object\n",
            " 15  Inf A H1N1 2009              1352 non-null   object\n",
            " 16  Bordetella pertussis         1352 non-null   object\n",
            " 17  Metapneumovirus              1352 non-null   object\n",
            " 18  Parainfluenza 2              1352 non-null   object\n",
            "dtypes: int64(1), object(18)\n",
            "memory usage: 211.2+ KB\n"
          ],
          "name": "stdout"
        }
      ]
    },
    {
      "cell_type": "code",
      "metadata": {
        "id": "_9xvrM6P5XFz",
        "colab_type": "code",
        "colab": {
          "base_uri": "https://localhost:8080/",
          "height": 102
        },
        "outputId": "b281bbb0-ef7d-4001-e741-91ed26484c50"
      },
      "source": [
        "df_1000.replace({'negative': 0, 'positive': 1, 'not_detected': 0, 'detected': 1}, inplace=True)"
      ],
      "execution_count": null,
      "outputs": [
        {
          "output_type": "stream",
          "text": [
            "/usr/local/lib/python3.6/dist-packages/pandas/core/frame.py:4172: SettingWithCopyWarning: \n",
            "A value is trying to be set on a copy of a slice from a DataFrame\n",
            "\n",
            "See the caveats in the documentation: https://pandas.pydata.org/pandas-docs/stable/user_guide/indexing.html#returning-a-view-versus-a-copy\n",
            "  method=method,\n"
          ],
          "name": "stderr"
        }
      ]
    },
    {
      "cell_type": "code",
      "metadata": {
        "id": "K-enHouv5bho",
        "colab_type": "code",
        "colab": {
          "base_uri": "https://localhost:8080/",
          "height": 296
        },
        "outputId": "9c66ae3f-b36d-4971-f74e-7ba8cbf0cf54"
      },
      "source": [
        "sns.countplot(x='SARS-Cov-2 exam result', data=df_1000)"
      ],
      "execution_count": null,
      "outputs": [
        {
          "output_type": "execute_result",
          "data": {
            "text/plain": [
              "<matplotlib.axes._subplots.AxesSubplot at 0x7fdbc5a17160>"
            ]
          },
          "metadata": {
            "tags": []
          },
          "execution_count": 14
        },
        {
          "output_type": "display_data",
          "data": {
            "image/png": "[encoded data removed]",
            "text/plain": [
              "<Figure size 432x288 with 1 Axes>"
            ]
          },
          "metadata": {
            "tags": [],
            "needs_background": "light"
          }
        }
      ]
    },
    {
      "cell_type": "code",
      "metadata": {
        "id": "5J3ahVmd50Fi",
        "colab_type": "code",
        "colab": {
          "base_uri": "https://localhost:8080/",
          "height": 68
        },
        "outputId": "1487a7f6-91b7-487d-8839-12b2def560e1"
      },
      "source": [
        "df_1000['SARS-Cov-2 exam result'].value_counts()"
      ],
      "execution_count": null,
      "outputs": [
        {
          "output_type": "execute_result",
          "data": {
            "text/plain": [
              "0    1240\n",
              "1     112\n",
              "Name: SARS-Cov-2 exam result, dtype: int64"
            ]
          },
          "metadata": {
            "tags": []
          },
          "execution_count": 15
        }
      ]
    },
    {
      "cell_type": "code",
      "metadata": {
        "id": "MMN6eDyX6PQN",
        "colab_type": "code",
        "colab": {}
      },
      "source": [
        "neg = df_1000[df_1000['SARS-Cov-2 exam result'] == 0].sample(n = 112)\n",
        "pos = df_1000[df_1000['SARS-Cov-2 exam result'] == 1]"
      ],
      "execution_count": null,
      "outputs": []
    },
    {
      "cell_type": "code",
      "metadata": {
        "id": "Ez8-Dbld6Txm",
        "colab_type": "code",
        "colab": {}
      },
      "source": [
        "data = pd.concat([neg, pos])"
      ],
      "execution_count": null,
      "outputs": []
    },
    {
      "cell_type": "code",
      "metadata": {
        "id": "5aJF3D3M6aqh",
        "colab_type": "code",
        "colab": {
          "base_uri": "https://localhost:8080/",
          "height": 490
        },
        "outputId": "fa7a8ebe-0913-4b2a-92df-e4b76d0c37ec"
      },
      "source": [
        "data"
      ],
      "execution_count": null,
      "outputs": [
        {
          "output_type": "execute_result",
          "data": {
            "text/html": [
              "<div>\n",
              "<style scoped>\n",
              "    .dataframe tbody tr th:only-of-type {\n",
              "        vertical-align: middle;\n",
              "    }\n",
              "\n",
              "    .dataframe tbody tr th {\n",
              "        vertical-align: top;\n",
              "    }\n",
              "\n",
              "    .dataframe thead th {\n",
              "        text-align: right;\n",
              "    }\n",
              "</style>\n",
              "<table border=\"1\" class=\"dataframe\">\n",
              "  <thead>\n",
              "    <tr style=\"text-align: right;\">\n",
              "      <th></th>\n",
              "      <th>Patient age quantile</th>\n",
              "      <th>SARS-Cov-2 exam result</th>\n",
              "      <th>Respiratory Syncytial Virus</th>\n",
              "      <th>Influenza A</th>\n",
              "      <th>Influenza B</th>\n",
              "      <th>Parainfluenza 1</th>\n",
              "      <th>CoronavirusNL63</th>\n",
              "      <th>Rhinovirus/Enterovirus</th>\n",
              "      <th>Coronavirus HKU1</th>\n",
              "      <th>Parainfluenza 3</th>\n",
              "      <th>Chlamydophila pneumoniae</th>\n",
              "      <th>Adenovirus</th>\n",
              "      <th>Parainfluenza 4</th>\n",
              "      <th>Coronavirus229E</th>\n",
              "      <th>CoronavirusOC43</th>\n",
              "      <th>Inf A H1N1 2009</th>\n",
              "      <th>Bordetella pertussis</th>\n",
              "      <th>Metapneumovirus</th>\n",
              "      <th>Parainfluenza 2</th>\n",
              "    </tr>\n",
              "  </thead>\n",
              "  <tbody>\n",
              "    <tr>\n",
              "      <th>1448</th>\n",
              "      <td>4</td>\n",
              "      <td>0</td>\n",
              "      <td>0</td>\n",
              "      <td>0</td>\n",
              "      <td>0</td>\n",
              "      <td>0</td>\n",
              "      <td>0</td>\n",
              "      <td>1</td>\n",
              "      <td>0</td>\n",
              "      <td>0</td>\n",
              "      <td>0</td>\n",
              "      <td>0</td>\n",
              "      <td>0</td>\n",
              "      <td>0</td>\n",
              "      <td>0</td>\n",
              "      <td>0</td>\n",
              "      <td>0</td>\n",
              "      <td>0</td>\n",
              "      <td>0</td>\n",
              "    </tr>\n",
              "    <tr>\n",
              "      <th>882</th>\n",
              "      <td>11</td>\n",
              "      <td>0</td>\n",
              "      <td>0</td>\n",
              "      <td>0</td>\n",
              "      <td>0</td>\n",
              "      <td>0</td>\n",
              "      <td>0</td>\n",
              "      <td>1</td>\n",
              "      <td>0</td>\n",
              "      <td>0</td>\n",
              "      <td>0</td>\n",
              "      <td>0</td>\n",
              "      <td>0</td>\n",
              "      <td>0</td>\n",
              "      <td>0</td>\n",
              "      <td>0</td>\n",
              "      <td>0</td>\n",
              "      <td>0</td>\n",
              "      <td>0</td>\n",
              "    </tr>\n",
              "    <tr>\n",
              "      <th>178</th>\n",
              "      <td>11</td>\n",
              "      <td>0</td>\n",
              "      <td>0</td>\n",
              "      <td>0</td>\n",
              "      <td>0</td>\n",
              "      <td>0</td>\n",
              "      <td>0</td>\n",
              "      <td>1</td>\n",
              "      <td>0</td>\n",
              "      <td>0</td>\n",
              "      <td>0</td>\n",
              "      <td>0</td>\n",
              "      <td>0</td>\n",
              "      <td>0</td>\n",
              "      <td>0</td>\n",
              "      <td>0</td>\n",
              "      <td>0</td>\n",
              "      <td>0</td>\n",
              "      <td>0</td>\n",
              "    </tr>\n",
              "    <tr>\n",
              "      <th>496</th>\n",
              "      <td>17</td>\n",
              "      <td>0</td>\n",
              "      <td>0</td>\n",
              "      <td>0</td>\n",
              "      <td>1</td>\n",
              "      <td>0</td>\n",
              "      <td>0</td>\n",
              "      <td>0</td>\n",
              "      <td>0</td>\n",
              "      <td>0</td>\n",
              "      <td>0</td>\n",
              "      <td>0</td>\n",
              "      <td>0</td>\n",
              "      <td>0</td>\n",
              "      <td>0</td>\n",
              "      <td>0</td>\n",
              "      <td>0</td>\n",
              "      <td>0</td>\n",
              "      <td>0</td>\n",
              "    </tr>\n",
              "    <tr>\n",
              "      <th>4368</th>\n",
              "      <td>13</td>\n",
              "      <td>0</td>\n",
              "      <td>0</td>\n",
              "      <td>0</td>\n",
              "      <td>0</td>\n",
              "      <td>0</td>\n",
              "      <td>0</td>\n",
              "      <td>0</td>\n",
              "      <td>0</td>\n",
              "      <td>0</td>\n",
              "      <td>0</td>\n",
              "      <td>0</td>\n",
              "      <td>0</td>\n",
              "      <td>0</td>\n",
              "      <td>0</td>\n",
              "      <td>0</td>\n",
              "      <td>0</td>\n",
              "      <td>0</td>\n",
              "      <td>0</td>\n",
              "    </tr>\n",
              "    <tr>\n",
              "      <th>...</th>\n",
              "      <td>...</td>\n",
              "      <td>...</td>\n",
              "      <td>...</td>\n",
              "      <td>...</td>\n",
              "      <td>...</td>\n",
              "      <td>...</td>\n",
              "      <td>...</td>\n",
              "      <td>...</td>\n",
              "      <td>...</td>\n",
              "      <td>...</td>\n",
              "      <td>...</td>\n",
              "      <td>...</td>\n",
              "      <td>...</td>\n",
              "      <td>...</td>\n",
              "      <td>...</td>\n",
              "      <td>...</td>\n",
              "      <td>...</td>\n",
              "      <td>...</td>\n",
              "      <td>...</td>\n",
              "    </tr>\n",
              "    <tr>\n",
              "      <th>5540</th>\n",
              "      <td>14</td>\n",
              "      <td>1</td>\n",
              "      <td>0</td>\n",
              "      <td>0</td>\n",
              "      <td>0</td>\n",
              "      <td>0</td>\n",
              "      <td>0</td>\n",
              "      <td>0</td>\n",
              "      <td>0</td>\n",
              "      <td>0</td>\n",
              "      <td>0</td>\n",
              "      <td>0</td>\n",
              "      <td>0</td>\n",
              "      <td>0</td>\n",
              "      <td>0</td>\n",
              "      <td>0</td>\n",
              "      <td>0</td>\n",
              "      <td>0</td>\n",
              "      <td>0</td>\n",
              "    </tr>\n",
              "    <tr>\n",
              "      <th>5564</th>\n",
              "      <td>12</td>\n",
              "      <td>1</td>\n",
              "      <td>0</td>\n",
              "      <td>0</td>\n",
              "      <td>0</td>\n",
              "      <td>0</td>\n",
              "      <td>0</td>\n",
              "      <td>0</td>\n",
              "      <td>0</td>\n",
              "      <td>0</td>\n",
              "      <td>0</td>\n",
              "      <td>0</td>\n",
              "      <td>0</td>\n",
              "      <td>0</td>\n",
              "      <td>0</td>\n",
              "      <td>0</td>\n",
              "      <td>0</td>\n",
              "      <td>0</td>\n",
              "      <td>0</td>\n",
              "    </tr>\n",
              "    <tr>\n",
              "      <th>5566</th>\n",
              "      <td>14</td>\n",
              "      <td>1</td>\n",
              "      <td>0</td>\n",
              "      <td>0</td>\n",
              "      <td>0</td>\n",
              "      <td>0</td>\n",
              "      <td>0</td>\n",
              "      <td>0</td>\n",
              "      <td>0</td>\n",
              "      <td>0</td>\n",
              "      <td>0</td>\n",
              "      <td>0</td>\n",
              "      <td>0</td>\n",
              "      <td>0</td>\n",
              "      <td>0</td>\n",
              "      <td>0</td>\n",
              "      <td>0</td>\n",
              "      <td>0</td>\n",
              "      <td>0</td>\n",
              "    </tr>\n",
              "    <tr>\n",
              "      <th>5585</th>\n",
              "      <td>18</td>\n",
              "      <td>1</td>\n",
              "      <td>0</td>\n",
              "      <td>0</td>\n",
              "      <td>0</td>\n",
              "      <td>0</td>\n",
              "      <td>0</td>\n",
              "      <td>0</td>\n",
              "      <td>0</td>\n",
              "      <td>0</td>\n",
              "      <td>0</td>\n",
              "      <td>0</td>\n",
              "      <td>0</td>\n",
              "      <td>0</td>\n",
              "      <td>0</td>\n",
              "      <td>0</td>\n",
              "      <td>0</td>\n",
              "      <td>0</td>\n",
              "      <td>0</td>\n",
              "    </tr>\n",
              "    <tr>\n",
              "      <th>5600</th>\n",
              "      <td>9</td>\n",
              "      <td>1</td>\n",
              "      <td>0</td>\n",
              "      <td>0</td>\n",
              "      <td>0</td>\n",
              "      <td>0</td>\n",
              "      <td>0</td>\n",
              "      <td>0</td>\n",
              "      <td>0</td>\n",
              "      <td>0</td>\n",
              "      <td>0</td>\n",
              "      <td>0</td>\n",
              "      <td>0</td>\n",
              "      <td>0</td>\n",
              "      <td>0</td>\n",
              "      <td>0</td>\n",
              "      <td>0</td>\n",
              "      <td>0</td>\n",
              "      <td>0</td>\n",
              "    </tr>\n",
              "  </tbody>\n",
              "</table>\n",
              "<p>224 rows × 19 columns</p>\n",
              "</div>"
            ],
            "text/plain": [
              "      Patient age quantile  ...  Parainfluenza 2\n",
              "1448                     4  ...                0\n",
              "882                     11  ...                0\n",
              "178                     11  ...                0\n",
              "496                     17  ...                0\n",
              "4368                    13  ...                0\n",
              "...                    ...  ...              ...\n",
              "5540                    14  ...                0\n",
              "5564                    12  ...                0\n",
              "5566                    14  ...                0\n",
              "5585                    18  ...                0\n",
              "5600                     9  ...                0\n",
              "\n",
              "[224 rows x 19 columns]"
            ]
          },
          "metadata": {
            "tags": []
          },
          "execution_count": 18
        }
      ]
    },
    {
      "cell_type": "code",
      "metadata": {
        "id": "nr-OsqAJ6bro",
        "colab_type": "code",
        "colab": {
          "base_uri": "https://localhost:8080/",
          "height": 296
        },
        "outputId": "2667fdc8-11ce-40a7-efef-0852b4b904f2"
      },
      "source": [
        "sns.countplot(x='SARS-Cov-2 exam result', data=data)"
      ],
      "execution_count": null,
      "outputs": [
        {
          "output_type": "execute_result",
          "data": {
            "text/plain": [
              "<matplotlib.axes._subplots.AxesSubplot at 0x7fdbc5446780>"
            ]
          },
          "metadata": {
            "tags": []
          },
          "execution_count": 19
        },
        {
          "output_type": "display_data",
          "data": {
            "image/png": "[encoded data removed]",
            "text/plain": [
              "<Figure size 432x288 with 1 Axes>"
            ]
          },
          "metadata": {
            "tags": [],
            "needs_background": "light"
          }
        }
      ]
    },
    {
      "cell_type": "code",
      "metadata": {
        "id": "s_Odz7Q-6jif",
        "colab_type": "code",
        "colab": {}
      },
      "source": [
        "y = data['SARS-Cov-2 exam result']\n",
        "X = data.drop('SARS-Cov-2 exam result', axis=1)"
      ],
      "execution_count": null,
      "outputs": []
    },
    {
      "cell_type": "code",
      "metadata": {
        "id": "fIVpdFzg6zGp",
        "colab_type": "code",
        "colab": {}
      },
      "source": [
        "from sklearn.model_selection import train_test_split"
      ],
      "execution_count": null,
      "outputs": []
    },
    {
      "cell_type": "code",
      "metadata": {
        "id": "HpBXM6pD68j_",
        "colab_type": "code",
        "colab": {}
      },
      "source": [
        "X_train, X_test, y_train, y_test = train_test_split(X, y)"
      ],
      "execution_count": null,
      "outputs": []
    },
    {
      "cell_type": "code",
      "metadata": {
        "id": "FXibkgaW7ErR",
        "colab_type": "code",
        "colab": {}
      },
      "source": [
        "from sklearn.svm import SVC"
      ],
      "execution_count": null,
      "outputs": []
    },
    {
      "cell_type": "code",
      "metadata": {
        "id": "dYl3Br_S9_HC",
        "colab_type": "code",
        "colab": {
          "base_uri": "https://localhost:8080/",
          "height": 85
        },
        "outputId": "755bfdf1-2d04-4eea-929d-91a62a509942"
      },
      "source": [
        "clf = SVC()\n",
        "clf.fit(X_train, y_train)"
      ],
      "execution_count": null,
      "outputs": [
        {
          "output_type": "execute_result",
          "data": {
            "text/plain": [
              "SVC(C=1.0, break_ties=False, cache_size=200, class_weight=None, coef0=0.0,\n",
              "    decision_function_shape='ovr', degree=3, gamma='scale', kernel='rbf',\n",
              "    max_iter=-1, probability=False, random_state=None, shrinking=True,\n",
              "    tol=0.001, verbose=False)"
            ]
          },
          "metadata": {
            "tags": []
          },
          "execution_count": 31
        }
      ]
    },
    {
      "cell_type": "code",
      "metadata": {
        "id": "ryyKz2j9-L2T",
        "colab_type": "code",
        "colab": {
          "base_uri": "https://localhost:8080/",
          "height": 493
        },
        "outputId": "9ab30b54-5074-420f-e0b6-98f4884eaceb"
      },
      "source": [
        "clf.dual_coef_"
      ],
      "execution_count": null,
      "outputs": [
        {
          "output_type": "execute_result",
          "data": {
            "text/plain": [
              "array([[-1.        , -1.        , -0.56925229, -1.        , -1.        ,\n",
              "        -1.        , -1.        , -1.        , -1.        , -1.        ,\n",
              "        -1.        , -1.        , -1.        , -1.        , -1.        ,\n",
              "        -1.        , -1.        , -1.        , -1.        , -1.        ,\n",
              "        -1.        , -1.        , -1.        , -0.75290223, -1.        ,\n",
              "        -1.        , -1.        , -1.        , -0.07238059, -1.        ,\n",
              "        -1.        , -1.        , -1.        , -1.        , -0.07337564,\n",
              "        -1.        , -1.        , -1.        , -1.        , -1.        ,\n",
              "        -1.        , -1.        , -1.        , -1.        , -1.        ,\n",
              "        -1.        , -1.        , -1.        , -1.        , -1.        ,\n",
              "        -1.        , -1.        , -1.        , -1.        , -1.        ,\n",
              "        -1.        , -1.        , -1.        , -1.        , -1.        ,\n",
              "        -1.        , -1.        , -1.        , -1.        , -0.08274496,\n",
              "        -1.        , -1.        , -1.        , -1.        ,  1.        ,\n",
              "         1.        ,  1.        ,  1.        ,  1.        ,  1.        ,\n",
              "         1.        ,  1.        ,  1.        ,  1.        ,  1.        ,\n",
              "         1.        ,  1.        ,  1.        ,  1.        ,  1.        ,\n",
              "         1.        ,  1.        ,  1.        ,  1.        ,  1.        ,\n",
              "         1.        ,  0.60700022,  1.        ,  1.        ,  1.        ,\n",
              "         1.        ,  1.        ,  1.        ,  1.        ,  1.        ,\n",
              "         1.        ,  1.        ,  1.        ,  1.        ,  1.        ,\n",
              "         1.        ,  1.        ,  1.        ,  1.        ,  1.        ,\n",
              "         1.        ,  1.        ,  1.        ,  1.        ,  1.        ,\n",
              "         1.        ,  1.        ,  1.        ,  1.        ,  0.06892738,\n",
              "         0.8747281 ,  1.        ,  1.        ,  1.        ,  1.        ,\n",
              "         1.        ,  1.        ,  1.        ,  1.        ,  1.        ,\n",
              "         1.        ,  1.        ,  1.        ,  1.        ,  1.        ,\n",
              "         1.        ]])"
            ]
          },
          "metadata": {
            "tags": []
          },
          "execution_count": 32
        }
      ]
    },
    {
      "cell_type": "code",
      "metadata": {
        "id": "KESC01CO7K8B",
        "colab_type": "code",
        "colab": {}
      },
      "source": [
        "from sklearn.model_selection import cross_val_score"
      ],
      "execution_count": null,
      "outputs": []
    },
    {
      "cell_type": "code",
      "metadata": {
        "id": "5XYA5b1g7gKZ",
        "colab_type": "code",
        "colab": {}
      },
      "source": [
        "clf = SVC()\n",
        "scores_svc = cross_val_score(clf, X, y)"
      ],
      "execution_count": null,
      "outputs": []
    },
    {
      "cell_type": "code",
      "metadata": {
        "id": "TKH6vQqJ7u2G",
        "colab_type": "code",
        "colab": {
          "base_uri": "https://localhost:8080/",
          "height": 51
        },
        "outputId": "f362d6d8-3def-4328-cf98-4ba7b00476d7"
      },
      "source": [
        "print('Cross validation scores: {}'.format(scores_svc))\n",
        "print('Average score: {:.2f}'.format(np.mean(scores_svc)))"
      ],
      "execution_count": null,
      "outputs": [
        {
          "output_type": "stream",
          "text": [
            "Cross validation scores: [0.4        0.64444444 0.64444444 0.66666667 0.68181818]\n",
            "Average score: 0.61\n"
          ],
          "name": "stdout"
        }
      ]
    },
    {
      "cell_type": "code",
      "metadata": {
        "id": "sM8ThbQOOQCz",
        "colab_type": "code",
        "colab": {}
      },
      "source": [
        "from sklearn.neighbors import KNeighborsClassifier\n",
        "clf = KNeighborsClassifier()\n",
        "scores_knn = cross_val_score(clf, X, y)"
      ],
      "execution_count": null,
      "outputs": []
    },
    {
      "cell_type": "code",
      "metadata": {
        "id": "EWh6VYDvOzn3",
        "colab_type": "code",
        "colab": {
          "base_uri": "https://localhost:8080/",
          "height": 51
        },
        "outputId": "b298d3b3-8bc2-4892-9990-4843ed7a65a0"
      },
      "source": [
        "print('Cross validation scores: {}'.format(scores_knn))\n",
        "print('Average score: {:.2f}'.format(np.mean(scores_knn)))"
      ],
      "execution_count": null,
      "outputs": [
        {
          "output_type": "stream",
          "text": [
            "Cross validation scores: [0.53333333 0.64444444 0.62222222 0.57777778 0.65909091]\n",
            "Average score: 0.61\n"
          ],
          "name": "stdout"
        }
      ]
    },
    {
      "cell_type": "code",
      "metadata": {
        "id": "nOgpNp07O6NR",
        "colab_type": "code",
        "colab": {}
      },
      "source": [
        "from sklearn.ensemble import RandomForestClassifier\n",
        "clf = RandomForestClassifier()\n",
        "scores_rfc = cross_val_score(clf, X, y)"
      ],
      "execution_count": null,
      "outputs": []
    },
    {
      "cell_type": "code",
      "metadata": {
        "id": "WRFwqOFyQDPv",
        "colab_type": "code",
        "colab": {
          "base_uri": "https://localhost:8080/",
          "height": 51
        },
        "outputId": "6864b8c0-4f5b-4013-dfdb-58a472013b15"
      },
      "source": [
        "print('Cross validation scores: {}'.format(scores_rfc))\n",
        "print('Average score: {:.2f}'.format(np.mean(scores_rfc)))"
      ],
      "execution_count": null,
      "outputs": [
        {
          "output_type": "stream",
          "text": [
            "Cross validation scores: [0.66666667 0.6        0.75555556 0.73333333 0.70454545]\n",
            "Average score: 0.69\n"
          ],
          "name": "stdout"
        }
      ]
    },
    {
      "cell_type": "code",
      "metadata": {
        "id": "-HWIdNh-QIhz",
        "colab_type": "code",
        "colab": {}
      },
      "source": [
        "clf = RandomForestClassifier()\n",
        "clf.fit(X, y)\n",
        "estimator = clf.estimators_[0]"
      ],
      "execution_count": null,
      "outputs": []
    },
    {
      "cell_type": "code",
      "metadata": {
        "id": "haKvfHQxQq1Z",
        "colab_type": "code",
        "colab": {}
      },
      "source": [
        "from sklearn.tree import export_graphviz\n",
        "export_graphviz(estimator, \n",
        "                out_file='rfc_tree.dot',\n",
        "                feature_names=X.columns,\n",
        "                class_names = ['negative', 'positive'],\n",
        "                rounded = True,\n",
        "                proportion = False,\n",
        "                precision = 2,\n",
        "                filled = True)"
      ],
      "execution_count": null,
      "outputs": []
    },
    {
      "cell_type": "code",
      "metadata": {
        "id": "WEMVmexaRPuz",
        "colab_type": "code",
        "colab": {
          "base_uri": "https://localhost:8080/",
          "height": 34
        },
        "outputId": "ac4ca6eb-e18c-4018-8b5c-c8d79f4dd734"
      },
      "source": [
        "from subprocess import call\n",
        "call(['dot', '-Tpng', 'rfc_tree.dot', '-o', 'rfc_tree.png', '-Gdpi=600'])"
      ],
      "execution_count": null,
      "outputs": [
        {
          "output_type": "execute_result",
          "data": {
            "text/plain": [
              "0"
            ]
          },
          "metadata": {
            "tags": []
          },
          "execution_count": 52
        }
      ]
    },
    {
      "cell_type": "code",
      "metadata": {
        "id": "62PWPD5rTXjt",
        "colab_type": "code",
        "colab": {}
      },
      "source": [
        ""
      ],
      "execution_count": null,
      "outputs": []
    }
  ]
}